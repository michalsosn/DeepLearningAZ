{
 "cells": [
  {
   "cell_type": "markdown",
   "metadata": {},
   "source": [
    "# Artificial Neural Network"
   ]
  },
  {
   "cell_type": "code",
   "execution_count": 1,
   "metadata": {},
   "outputs": [],
   "source": [
    "# Installing Theano\n",
    "# pip install --upgrade --no-deps git+git://github.com/Theano/Theano.git\n",
    "\n",
    "# Installing Tensorflow\n",
    "# pip install tensorflow\n",
    "\n",
    "# Installing Keras\n",
    "# pip install --upgrade keras"
   ]
  },
  {
   "cell_type": "markdown",
   "metadata": {},
   "source": [
    "# Part 1 - Data Preprocessing"
   ]
  },
  {
   "cell_type": "code",
   "execution_count": 2,
   "metadata": {},
   "outputs": [],
   "source": [
    "# Importing the libraries\n",
    "import numpy as np\n",
    "import matplotlib.pyplot as plt\n",
    "import pandas as pd"
   ]
  },
  {
   "cell_type": "code",
   "execution_count": 3,
   "metadata": {},
   "outputs": [],
   "source": [
    "# Importing the dataset\n",
    "dataset = pd.read_csv('Churn_Modelling.csv')\n",
    "X = dataset.iloc[:, 3:13].values\n",
    "y = dataset.iloc[:, 13].values"
   ]
  },
  {
   "cell_type": "code",
   "execution_count": 4,
   "metadata": {},
   "outputs": [],
   "source": [
    "# Encoding categorical data\n",
    "from sklearn.preprocessing import LabelEncoder, OneHotEncoder\n",
    "labelencoder_X_1 = LabelEncoder()\n",
    "X[:, 1] = labelencoder_X_1.fit_transform(X[:, 1])\n",
    "labelencoder_X_2 = LabelEncoder()\n",
    "X[:, 2] = labelencoder_X_2.fit_transform(X[:, 2])\n",
    "onehotencoder = OneHotEncoder(categorical_features = [1])\n",
    "X = onehotencoder.fit_transform(X).toarray()\n",
    "X = X[:, 1:]"
   ]
  },
  {
   "cell_type": "code",
   "execution_count": 5,
   "metadata": {},
   "outputs": [],
   "source": [
    "# Splitting the dataset into the Training set and Test set\n",
    "from sklearn.model_selection import train_test_split\n",
    "X_train, X_test, y_train, y_test = train_test_split(X, y, test_size = 0.2, random_state = 0)"
   ]
  },
  {
   "cell_type": "code",
   "execution_count": 6,
   "metadata": {},
   "outputs": [],
   "source": [
    "# Feature Scaling\n",
    "from sklearn.preprocessing import StandardScaler\n",
    "sc = StandardScaler()\n",
    "X_train = sc.fit_transform(X_train)\n",
    "X_test = sc.transform(X_test)"
   ]
  },
  {
   "cell_type": "markdown",
   "metadata": {},
   "source": [
    "# Part 2 - Now let's make the ANN!"
   ]
  },
  {
   "cell_type": "code",
   "execution_count": 7,
   "metadata": {},
   "outputs": [
    {
     "name": "stderr",
     "output_type": "stream",
     "text": [
      "Using TensorFlow backend.\n"
     ]
    }
   ],
   "source": [
    "# Importing the Keras libraries and packages\n",
    "import keras\n",
    "from keras.models import Sequential\n",
    "from keras.layers import Dense"
   ]
  },
  {
   "cell_type": "code",
   "execution_count": 8,
   "metadata": {},
   "outputs": [],
   "source": [
    "# Initialising the ANN\n",
    "classifier = Sequential()"
   ]
  },
  {
   "cell_type": "code",
   "execution_count": 9,
   "metadata": {},
   "outputs": [],
   "source": [
    "# Adding the input layer and the first hidden layer\n",
    "classifier.add(Dense(units = 6, kernel_initializer = 'uniform', activation = 'relu', input_dim = 11))"
   ]
  },
  {
   "cell_type": "code",
   "execution_count": 10,
   "metadata": {},
   "outputs": [],
   "source": [
    "# Adding the second hidden layer\n",
    "classifier.add(Dense(units = 6, kernel_initializer = 'uniform', activation = 'relu'))"
   ]
  },
  {
   "cell_type": "code",
   "execution_count": 11,
   "metadata": {},
   "outputs": [],
   "source": [
    "# Adding the output layer\n",
    "classifier.add(Dense(units = 1, kernel_initializer = 'uniform', activation = 'sigmoid'))"
   ]
  },
  {
   "cell_type": "code",
   "execution_count": 12,
   "metadata": {},
   "outputs": [],
   "source": [
    "# Compiling the ANN\n",
    "classifier.compile(optimizer = 'adam', loss = 'binary_crossentropy', metrics = ['accuracy'])"
   ]
  },
  {
   "cell_type": "code",
   "execution_count": 13,
   "metadata": {},
   "outputs": [
    {
     "name": "stdout",
     "output_type": "stream",
     "text": [
      "Epoch 1/100\n",
      "8000/8000 [==============================] - 5s 581us/step - loss: 0.4927 - acc: 0.7952\n",
      "Epoch 2/100\n",
      "8000/8000 [==============================] - 4s 497us/step - loss: 0.4298 - acc: 0.7960\n",
      "Epoch 3/100\n",
      "8000/8000 [==============================] - 4s 493us/step - loss: 0.4258 - acc: 0.7960\n",
      "Epoch 4/100\n",
      "8000/8000 [==============================] - 4s 496us/step - loss: 0.4214 - acc: 0.7976\n",
      "Epoch 5/100\n",
      "8000/8000 [==============================] - 4s 495us/step - loss: 0.4186 - acc: 0.8200\n",
      "Epoch 6/100\n",
      "8000/8000 [==============================] - 4s 492us/step - loss: 0.4165 - acc: 0.8256\n",
      "Epoch 7/100\n",
      "8000/8000 [==============================] - 4s 471us/step - loss: 0.4144 - acc: 0.8294\n",
      "Epoch 8/100\n",
      "8000/8000 [==============================] - 4s 486us/step - loss: 0.4134 - acc: 0.8301\n",
      "Epoch 9/100\n",
      "8000/8000 [==============================] - 4s 476us/step - loss: 0.4117 - acc: 0.8306\n",
      "Epoch 10/100\n",
      "8000/8000 [==============================] - 4s 492us/step - loss: 0.4113 - acc: 0.8316\n",
      "Epoch 11/100\n",
      "8000/8000 [==============================] - 4s 483us/step - loss: 0.4103 - acc: 0.8329\n",
      "Epoch 12/100\n",
      "8000/8000 [==============================] - 4s 454us/step - loss: 0.4096 - acc: 0.8350\n",
      "Epoch 13/100\n",
      "8000/8000 [==============================] - 4s 449us/step - loss: 0.4086 - acc: 0.8331\n",
      "Epoch 14/100\n",
      "8000/8000 [==============================] - 4s 472us/step - loss: 0.4077 - acc: 0.8339\n",
      "Epoch 15/100\n",
      "8000/8000 [==============================] - 4s 456us/step - loss: 0.4073 - acc: 0.8347\n",
      "Epoch 16/100\n",
      "8000/8000 [==============================] - 3s 426us/step - loss: 0.4063 - acc: 0.8330\n",
      "Epoch 17/100\n",
      "8000/8000 [==============================] - 3s 425us/step - loss: 0.4052 - acc: 0.8355\n",
      "Epoch 18/100\n",
      "8000/8000 [==============================] - 3s 407us/step - loss: 0.4039 - acc: 0.8341\n",
      "Epoch 19/100\n",
      "8000/8000 [==============================] - 4s 446us/step - loss: 0.4025 - acc: 0.8346\n",
      "Epoch 20/100\n",
      "8000/8000 [==============================] - 4s 482us/step - loss: 0.4016 - acc: 0.8347\n",
      "Epoch 21/100\n",
      "8000/8000 [==============================] - 4s 487us/step - loss: 0.4008 - acc: 0.8354\n",
      "Epoch 22/100\n",
      "8000/8000 [==============================] - 4s 502us/step - loss: 0.3997 - acc: 0.8351\n",
      "Epoch 23/100\n",
      "8000/8000 [==============================] - 4s 492us/step - loss: 0.3996 - acc: 0.8352\n",
      "Epoch 24/100\n",
      "8000/8000 [==============================] - 4s 440us/step - loss: 0.3984 - acc: 0.8351\n",
      "Epoch 25/100\n",
      "8000/8000 [==============================] - 4s 477us/step - loss: 0.3981 - acc: 0.8347\n",
      "Epoch 26/100\n",
      "8000/8000 [==============================] - 4s 498us/step - loss: 0.3973 - acc: 0.8361\n",
      "Epoch 27/100\n",
      "8000/8000 [==============================] - 4s 500us/step - loss: 0.3972 - acc: 0.8360\n",
      "Epoch 28/100\n",
      "8000/8000 [==============================] - 4s 498us/step - loss: 0.3963 - acc: 0.8365\n",
      "Epoch 29/100\n",
      "8000/8000 [==============================] - 4s 487us/step - loss: 0.3958 - acc: 0.8370\n",
      "Epoch 30/100\n",
      "8000/8000 [==============================] - 4s 480us/step - loss: 0.3963 - acc: 0.8364\n",
      "Epoch 31/100\n",
      "8000/8000 [==============================] - 4s 494us/step - loss: 0.3959 - acc: 0.8361\n",
      "Epoch 32/100\n",
      "8000/8000 [==============================] - 4s 496us/step - loss: 0.3960 - acc: 0.8376\n",
      "Epoch 33/100\n",
      "8000/8000 [==============================] - 4s 499us/step - loss: 0.3956 - acc: 0.8370\n",
      "Epoch 34/100\n",
      "8000/8000 [==============================] - 4s 505us/step - loss: 0.3955 - acc: 0.8369\n",
      "Epoch 35/100\n",
      "8000/8000 [==============================] - 4s 475us/step - loss: 0.3955 - acc: 0.8365\n",
      "Epoch 36/100\n",
      "8000/8000 [==============================] - 4s 471us/step - loss: 0.3949 - acc: 0.8375\n",
      "Epoch 37/100\n",
      "8000/8000 [==============================] - ETA: 0s - loss: 0.3956 - acc: 0.835 - 4s 497us/step - loss: 0.3951 - acc: 0.8362\n",
      "Epoch 38/100\n",
      "8000/8000 [==============================] - 4s 487us/step - loss: 0.3948 - acc: 0.8372\n",
      "Epoch 39/100\n",
      "8000/8000 [==============================] - 4s 473us/step - loss: 0.3948 - acc: 0.8390\n",
      "Epoch 40/100\n",
      "8000/8000 [==============================] - 4s 477us/step - loss: 0.3948 - acc: 0.8361\n",
      "Epoch 41/100\n",
      "8000/8000 [==============================] - 4s 453us/step - loss: 0.3943 - acc: 0.8370\n",
      "Epoch 42/100\n",
      "8000/8000 [==============================] - 4s 453us/step - loss: 0.3940 - acc: 0.8362\n",
      "Epoch 43/100\n",
      "8000/8000 [==============================] - 4s 460us/step - loss: 0.3942 - acc: 0.8379\n",
      "Epoch 44/100\n",
      "8000/8000 [==============================] - 4s 477us/step - loss: 0.3938 - acc: 0.8372\n",
      "Epoch 45/100\n",
      "8000/8000 [==============================] - 4s 457us/step - loss: 0.3939 - acc: 0.8386\n",
      "Epoch 46/100\n",
      "8000/8000 [==============================] - 4s 455us/step - loss: 0.3941 - acc: 0.8384\n",
      "Epoch 47/100\n",
      "8000/8000 [==============================] - 4s 467us/step - loss: 0.3942 - acc: 0.8384\n",
      "Epoch 48/100\n",
      "8000/8000 [==============================] - 4s 454us/step - loss: 0.3937 - acc: 0.8370\n",
      "Epoch 49/100\n",
      "8000/8000 [==============================] - 4s 446us/step - loss: 0.3937 - acc: 0.8376\n",
      "Epoch 50/100\n",
      "8000/8000 [==============================] - 4s 474us/step - loss: 0.3935 - acc: 0.8361\n",
      "Epoch 51/100\n",
      "8000/8000 [==============================] - 4s 501us/step - loss: 0.3934 - acc: 0.8372\n",
      "Epoch 52/100\n",
      "8000/8000 [==============================] - 4s 489us/step - loss: 0.3935 - acc: 0.8361\n",
      "Epoch 53/100\n",
      "8000/8000 [==============================] - 4s 462us/step - loss: 0.3937 - acc: 0.8377\n",
      "Epoch 54/100\n",
      "8000/8000 [==============================] - 4s 478us/step - loss: 0.3934 - acc: 0.8365\n",
      "Epoch 55/100\n",
      "8000/8000 [==============================] - 4s 468us/step - loss: 0.3931 - acc: 0.8374\n",
      "Epoch 56/100\n",
      "8000/8000 [==============================] - 4s 498us/step - loss: 0.3936 - acc: 0.8381\n",
      "Epoch 57/100\n",
      "8000/8000 [==============================] - 4s 494us/step - loss: 0.3932 - acc: 0.8392\n",
      "Epoch 58/100\n",
      "8000/8000 [==============================] - 4s 502us/step - loss: 0.3925 - acc: 0.8376\n",
      "Epoch 59/100\n",
      "8000/8000 [==============================] - 4s 481us/step - loss: 0.3914 - acc: 0.8397\n",
      "Epoch 60/100\n",
      "8000/8000 [==============================] - 4s 461us/step - loss: 0.3923 - acc: 0.8389\n",
      "Epoch 61/100\n",
      "8000/8000 [==============================] - 4s 479us/step - loss: 0.3907 - acc: 0.8396\n",
      "Epoch 62/100\n",
      "8000/8000 [==============================] - 4s 491us/step - loss: 0.3906 - acc: 0.8385\n",
      "Epoch 63/100\n",
      "8000/8000 [==============================] - 4s 491us/step - loss: 0.3892 - acc: 0.8395\n",
      "Epoch 64/100\n",
      "8000/8000 [==============================] - 4s 496us/step - loss: 0.3881 - acc: 0.8394\n",
      "Epoch 65/100\n",
      "8000/8000 [==============================] - 3s 419us/step - loss: 0.3849 - acc: 0.8410\n",
      "Epoch 66/100\n",
      "8000/8000 [==============================] - 3s 400us/step - loss: 0.3825 - acc: 0.8409\n",
      "Epoch 67/100\n",
      "8000/8000 [==============================] - 3s 433us/step - loss: 0.3799 - acc: 0.8412\n",
      "Epoch 68/100\n",
      "8000/8000 [==============================] - 3s 410us/step - loss: 0.3780 - acc: 0.8414\n",
      "Epoch 69/100\n",
      "8000/8000 [==============================] - 3s 414us/step - loss: 0.3768 - acc: 0.8420\n",
      "Epoch 70/100\n",
      "8000/8000 [==============================] - 3s 436us/step - loss: 0.3765 - acc: 0.8411\n",
      "Epoch 71/100\n",
      "8000/8000 [==============================] - 4s 484us/step - loss: 0.3757 - acc: 0.8396\n",
      "Epoch 72/100\n",
      "8000/8000 [==============================] - 4s 497us/step - loss: 0.3751 - acc: 0.8415\n",
      "Epoch 73/100\n",
      "8000/8000 [==============================] - 4s 473us/step - loss: 0.3744 - acc: 0.8390\n",
      "Epoch 74/100\n",
      "8000/8000 [==============================] - 3s 421us/step - loss: 0.3741 - acc: 0.8386\n",
      "Epoch 75/100\n",
      "8000/8000 [==============================] - 3s 431us/step - loss: 0.3734 - acc: 0.8395\n",
      "Epoch 76/100\n",
      "8000/8000 [==============================] - 4s 455us/step - loss: 0.3728 - acc: 0.8409\n",
      "Epoch 77/100\n",
      "8000/8000 [==============================] - 4s 445us/step - loss: 0.3727 - acc: 0.8405\n",
      "Epoch 78/100\n",
      "8000/8000 [==============================] - 4s 441us/step - loss: 0.3728 - acc: 0.8390\n",
      "Epoch 79/100\n",
      "8000/8000 [==============================] - 3s 428us/step - loss: 0.3721 - acc: 0.8409\n",
      "Epoch 80/100\n",
      "8000/8000 [==============================] - 4s 448us/step - loss: 0.3724 - acc: 0.8405\n",
      "Epoch 81/100\n"
     ]
    },
    {
     "name": "stdout",
     "output_type": "stream",
     "text": [
      "8000/8000 [==============================] - 3s 423us/step - loss: 0.3721 - acc: 0.8407\n",
      "Epoch 82/100\n",
      "8000/8000 [==============================] - 3s 428us/step - loss: 0.3715 - acc: 0.8399\n",
      "Epoch 83/100\n",
      "8000/8000 [==============================] - 3s 429us/step - loss: 0.3724 - acc: 0.8391\n",
      "Epoch 84/100\n",
      "8000/8000 [==============================] - 4s 440us/step - loss: 0.3715 - acc: 0.8389\n",
      "Epoch 85/100\n",
      "8000/8000 [==============================] - 4s 473us/step - loss: 0.3716 - acc: 0.8392\n",
      "Epoch 86/100\n",
      "8000/8000 [==============================] - 4s 497us/step - loss: 0.3710 - acc: 0.8391\n",
      "Epoch 87/100\n",
      "8000/8000 [==============================] - 4s 498us/step - loss: 0.3714 - acc: 0.8414\n",
      "Epoch 88/100\n",
      "8000/8000 [==============================] - 4s 489us/step - loss: 0.3709 - acc: 0.8392\n",
      "Epoch 89/100\n",
      "8000/8000 [==============================] - 4s 494us/step - loss: 0.3705 - acc: 0.8402\n",
      "Epoch 90/100\n",
      "8000/8000 [==============================] - 4s 494us/step - loss: 0.3705 - acc: 0.8422\n",
      "Epoch 91/100\n",
      "8000/8000 [==============================] - 4s 478us/step - loss: 0.3702 - acc: 0.8414\n",
      "Epoch 92/100\n",
      "8000/8000 [==============================] - 4s 476us/step - loss: 0.3704 - acc: 0.8426\n",
      "Epoch 93/100\n",
      "8000/8000 [==============================] - 4s 499us/step - loss: 0.3699 - acc: 0.8439\n",
      "Epoch 94/100\n",
      "8000/8000 [==============================] - 4s 499us/step - loss: 0.3703 - acc: 0.8391\n",
      "Epoch 95/100\n",
      "8000/8000 [==============================] - 4s 485us/step - loss: 0.3701 - acc: 0.8421\n",
      "Epoch 96/100\n",
      "8000/8000 [==============================] - 4s 494us/step - loss: 0.3698 - acc: 0.8414\n",
      "Epoch 97/100\n",
      "8000/8000 [==============================] - 4s 496us/step - loss: 0.3697 - acc: 0.8431\n",
      "Epoch 98/100\n",
      "8000/8000 [==============================] - 4s 482us/step - loss: 0.3694 - acc: 0.8419\n",
      "Epoch 99/100\n",
      "8000/8000 [==============================] - 4s 498us/step - loss: 0.3688 - acc: 0.8411\n",
      "Epoch 100/100\n",
      "8000/8000 [==============================] - 4s 491us/step - loss: 0.3702 - acc: 0.8429\n"
     ]
    },
    {
     "data": {
      "text/plain": [
       "<keras.callbacks.History at 0x7f7edd9169d0>"
      ]
     },
     "execution_count": 13,
     "metadata": {},
     "output_type": "execute_result"
    }
   ],
   "source": [
    "# Fitting the ANN to the Training set\n",
    "classifier.fit(X_train, y_train, batch_size = 10, epochs = 100)"
   ]
  },
  {
   "cell_type": "markdown",
   "metadata": {},
   "source": [
    "# Part 3 - Making predictions and evaluating the model"
   ]
  },
  {
   "cell_type": "code",
   "execution_count": 14,
   "metadata": {},
   "outputs": [],
   "source": [
    "# Predicting the Test set results\n",
    "y_pred = classifier.predict(X_test)\n",
    "y_pred = (y_pred > 0.5)"
   ]
  },
  {
   "cell_type": "code",
   "execution_count": 15,
   "metadata": {},
   "outputs": [],
   "source": [
    "# Making the Confusion Matrix\n",
    "from sklearn.metrics import confusion_matrix\n",
    "cm = confusion_matrix(y_test, y_pred)"
   ]
  },
  {
   "cell_type": "code",
   "execution_count": 16,
   "metadata": {},
   "outputs": [
    {
     "data": {
      "text/plain": [
       "array([[1539,   56],\n",
       "       [ 256,  149]])"
      ]
     },
     "execution_count": 16,
     "metadata": {},
     "output_type": "execute_result"
    }
   ],
   "source": [
    "cm"
   ]
  }
 ],
 "metadata": {
  "kernelspec": {
   "display_name": "Python 2",
   "language": "python",
   "name": "python2"
  },
  "language_info": {
   "codemirror_mode": {
    "name": "ipython",
    "version": 2
   },
   "file_extension": ".py",
   "mimetype": "text/x-python",
   "name": "python",
   "nbconvert_exporter": "python",
   "pygments_lexer": "ipython2",
   "version": "2.7.12"
  }
 },
 "nbformat": 4,
 "nbformat_minor": 2
}
